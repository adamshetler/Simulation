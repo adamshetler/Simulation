{
 "cells": [
  {
   "cell_type": "code",
   "execution_count": 30,
   "metadata": {},
   "outputs": [],
   "source": [
    "import numpy as np\n",
    "import heapq\n",
    "import pandas as pd"
   ]
  },
  {
   "cell_type": "code",
   "execution_count": 106,
   "metadata": {
    "collapsed": true
   },
   "outputs": [],
   "source": [
    "#The purpose of this function is to take data in an excel spreadsheet and convert it to a pandas dataframe. \n",
    "#There is a single input for this function, fileName. This is the name of the Excel spreadsheet. \n",
    "#NOTE: for this function to work correctly the excel spreadsheet must be saved to my desktop. \n",
    "def excelToDataFrame(fileName):\n",
    "    xls_file = pd.ExcelFile('/Users/adam/Desktop/' + fileName + '.xlsx')\n",
    "    data = xls_file.parse('Sheet1')\n",
    "    return data"
   ]
  },
  {
   "cell_type": "code",
   "execution_count": 108,
   "metadata": {},
   "outputs": [],
   "source": [
    "test_data = excelToDataFrame('Test_Data')"
   ]
  },
  {
   "cell_type": "code",
   "execution_count": 122,
   "metadata": {},
   "outputs": [
    {
     "data": {
      "text/html": [
       "<div>\n",
       "<style>\n",
       "    .dataframe thead tr:only-child th {\n",
       "        text-align: right;\n",
       "    }\n",
       "\n",
       "    .dataframe thead th {\n",
       "        text-align: left;\n",
       "    }\n",
       "\n",
       "    .dataframe tbody tr th {\n",
       "        vertical-align: top;\n",
       "    }\n",
       "</style>\n",
       "<table border=\"1\" class=\"dataframe\">\n",
       "  <thead>\n",
       "    <tr style=\"text-align: right;\">\n",
       "      <th></th>\n",
       "      <th>Grandparent</th>\n",
       "      <th>EU16</th>\n",
       "      <th>EU17</th>\n",
       "      <th>Claims16</th>\n",
       "      <th>Claims17</th>\n",
       "      <th>Freq16</th>\n",
       "      <th>Freq17</th>\n",
       "    </tr>\n",
       "  </thead>\n",
       "  <tbody>\n",
       "    <tr>\n",
       "      <th>0</th>\n",
       "      <td>Andover</td>\n",
       "      <td>102400</td>\n",
       "      <td>150394</td>\n",
       "      <td>809</td>\n",
       "      <td>1220</td>\n",
       "      <td>0.007900</td>\n",
       "      <td>0.008112</td>\n",
       "    </tr>\n",
       "    <tr>\n",
       "      <th>1</th>\n",
       "      <td>ANPAC</td>\n",
       "      <td>82000</td>\n",
       "      <td>93420</td>\n",
       "      <td>562</td>\n",
       "      <td>603</td>\n",
       "      <td>0.006854</td>\n",
       "      <td>0.006455</td>\n",
       "    </tr>\n",
       "    <tr>\n",
       "      <th>2</th>\n",
       "      <td>Mercury</td>\n",
       "      <td>12000</td>\n",
       "      <td>14500</td>\n",
       "      <td>89</td>\n",
       "      <td>90</td>\n",
       "      <td>0.007417</td>\n",
       "      <td>0.006207</td>\n",
       "    </tr>\n",
       "    <tr>\n",
       "      <th>3</th>\n",
       "      <td>State Farm</td>\n",
       "      <td>8320</td>\n",
       "      <td>7430</td>\n",
       "      <td>54</td>\n",
       "      <td>30</td>\n",
       "      <td>0.006490</td>\n",
       "      <td>0.004038</td>\n",
       "    </tr>\n",
       "    <tr>\n",
       "      <th>4</th>\n",
       "      <td>Donnegal</td>\n",
       "      <td>320438</td>\n",
       "      <td>538921</td>\n",
       "      <td>1200</td>\n",
       "      <td>2304</td>\n",
       "      <td>0.003745</td>\n",
       "      <td>0.004275</td>\n",
       "    </tr>\n",
       "    <tr>\n",
       "      <th>5</th>\n",
       "      <td>Erie</td>\n",
       "      <td>43874</td>\n",
       "      <td>68372</td>\n",
       "      <td>120</td>\n",
       "      <td>240</td>\n",
       "      <td>0.002735</td>\n",
       "      <td>0.003510</td>\n",
       "    </tr>\n",
       "    <tr>\n",
       "      <th>6</th>\n",
       "      <td>National General</td>\n",
       "      <td>64890</td>\n",
       "      <td>68923</td>\n",
       "      <td>320</td>\n",
       "      <td>600</td>\n",
       "      <td>0.004931</td>\n",
       "      <td>0.008705</td>\n",
       "    </tr>\n",
       "  </tbody>\n",
       "</table>\n",
       "</div>"
      ],
      "text/plain": [
       "        Grandparent    EU16    EU17  Claims16  Claims17    Freq16    Freq17\n",
       "0           Andover  102400  150394       809      1220  0.007900  0.008112\n",
       "1             ANPAC   82000   93420       562       603  0.006854  0.006455\n",
       "2          Mercury    12000   14500        89        90  0.007417  0.006207\n",
       "3        State Farm    8320    7430        54        30  0.006490  0.004038\n",
       "4         Donnegal   320438  538921      1200      2304  0.003745  0.004275\n",
       "5              Erie   43874   68372       120       240  0.002735  0.003510\n",
       "6  National General   64890   68923       320       600  0.004931  0.008705"
      ]
     },
     "execution_count": 122,
     "metadata": {},
     "output_type": "execute_result"
    }
   ],
   "source": [
    "test_data"
   ]
  },
  {
   "cell_type": "code",
   "execution_count": 162,
   "metadata": {},
   "outputs": [],
   "source": [
    "#The purpose of this function is to return the n top contributing grandparent companies to the overall change in\n",
    "#frequency over a given time period. This function takes as inputs:\n",
    "#       data: a pandas dataframe with column names, Grandparent, EU16, EU17, Claims16, Claims17, Freq16, Freq17. Use \n",
    "#             the excelToDataFrame() function to convert excel data to pandas dataframe. \n",
    "#       n: the number of grandparent companies we want to return \n",
    "#The output of this function is a list containing the names of the n top contributing Grandparent companies.\n",
    "def simulation(data,n):\n",
    "    #this will be the total number of Grandparent companies \n",
    "    N = data.shape[0]\n",
    "    \n",
    "    #sum the total number of Exposure Units for 2016 and 2017\n",
    "    EU16 = sum(data['EU16'])\n",
    "    EU17 = sum(data['EU17'])\n",
    "    \n",
    "    #sum the total number of Claims for 2016 and 2017\n",
    "    claims16 = sum(data['Claims16'])\n",
    "    claims17 = sum(data['Claims17'])\n",
    "    \n",
    "    #compute the overall frequency (for all grandparent companies) for 2016 and 2017\n",
    "    freq16 = claims16/EU16\n",
    "    freq17 = claims17/EU17\n",
    "    \n",
    "    #create an empty list that will be filled with the score for each individual grandparent comapany\n",
    "    #the score will serve as that company's contribution to the overall change in frequency \n",
    "    score_history = []\n",
    "    #loop over all grandparent companies. On each iteration take out one grandparent, calculate frequency 2016 and \n",
    "    #frequency 2017 then compute the distance between those frequencies and the overall frequencies. \n",
    "    for i in range(N):\n",
    "        EU_16 = EU16 - data['EU16'][i]\n",
    "        EU_17 = EU17 - data['EU17'][i]\n",
    "        \n",
    "        claims_16 = claims16 - data['Claims16'][i]\n",
    "        claims_17 = claims17 - data['Claims17'][i]\n",
    "        \n",
    "        freq_16 = claims_16/EU_16\n",
    "        freq_17 = claims_17/EU_17\n",
    "        \n",
    "        score = np.sqrt((freq16 - freq_16)**2 + (freq17 - freq_17)**2)\n",
    "        score_history.append(score)\n",
    "    \n",
    "    #this will return the n largest scores from the score_history list. \n",
    "    top_scores = heapq.nlargest(n,score_history)\n",
    "    \n",
    "    #this will return the n grandparent companies that correspond to the n largest scores. This list will be what is \n",
    "    #returned. \n",
    "    top_grandparents = []\n",
    "    for i in range(n):\n",
    "        ind = score_history.index(top_scores[i])\n",
    "        top_grandparents.append(data['Grandparent'][ind])\n",
    "        \n",
    "    return top_grandparents"
   ]
  },
  {
   "cell_type": "code",
   "execution_count": 171,
   "metadata": {},
   "outputs": [
    {
     "data": {
      "text/plain": [
       "['Donnegal ', 'Andover']"
      ]
     },
     "execution_count": 171,
     "metadata": {},
     "output_type": "execute_result"
    }
   ],
   "source": [
    "simulation(test_data,2)"
   ]
  }
 ],
 "metadata": {
  "kernelspec": {
   "display_name": "Python 3",
   "language": "python",
   "name": "python3"
  },
  "language_info": {
   "codemirror_mode": {
    "name": "ipython",
    "version": 3
   },
   "file_extension": ".py",
   "mimetype": "text/x-python",
   "name": "python",
   "nbconvert_exporter": "python",
   "pygments_lexer": "ipython3",
   "version": "3.6.3"
  }
 },
 "nbformat": 4,
 "nbformat_minor": 2
}
